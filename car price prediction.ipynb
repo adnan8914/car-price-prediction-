{
 "cells": [
  {
   "cell_type": "code",
   "execution_count": 1,
   "id": "c6598cec",
   "metadata": {},
   "outputs": [],
   "source": [
    "import tensorflow as tf\n",
    "import pandas as pd \n",
    "import seaborn as sns \n",
    "import numpy as np\n",
    "import matplotlib.pyplot as plt\n",
    "from tensorflow.keras.layers import Normalization, Dense, InputLayer\n",
    "from tensorflow.keras.losses import MeanSquaredError, Huber, MeanAbsoluteError\n",
    "from tensorflow.keras.optimizers import Adam\n",
    "from tensorflow.keras.metrics import RootMeanSquaredError"
   ]
  },
  {
   "cell_type": "code",
   "execution_count": 2,
   "id": "24f89120",
   "metadata": {},
   "outputs": [],
   "source": [
    "df = pd.read_csv(\"train.csv\")"
   ]
  },
  {
   "cell_type": "code",
   "execution_count": 3,
   "id": "f1bbcb48",
   "metadata": {},
   "outputs": [
    {
     "data": {
      "text/html": [
       "<div>\n",
       "<style scoped>\n",
       "    .dataframe tbody tr th:only-of-type {\n",
       "        vertical-align: middle;\n",
       "    }\n",
       "\n",
       "    .dataframe tbody tr th {\n",
       "        vertical-align: top;\n",
       "    }\n",
       "\n",
       "    .dataframe thead th {\n",
       "        text-align: right;\n",
       "    }\n",
       "</style>\n",
       "<table border=\"1\" class=\"dataframe\">\n",
       "  <thead>\n",
       "    <tr style=\"text-align: right;\">\n",
       "      <th></th>\n",
       "      <th>v.id</th>\n",
       "      <th>on road old</th>\n",
       "      <th>on road now</th>\n",
       "      <th>years</th>\n",
       "      <th>km</th>\n",
       "      <th>rating</th>\n",
       "      <th>condition</th>\n",
       "      <th>economy</th>\n",
       "      <th>top speed</th>\n",
       "      <th>hp</th>\n",
       "      <th>torque</th>\n",
       "      <th>current price</th>\n",
       "    </tr>\n",
       "  </thead>\n",
       "  <tbody>\n",
       "    <tr>\n",
       "      <th>0</th>\n",
       "      <td>1</td>\n",
       "      <td>535651</td>\n",
       "      <td>798186</td>\n",
       "      <td>3</td>\n",
       "      <td>78945</td>\n",
       "      <td>1</td>\n",
       "      <td>2</td>\n",
       "      <td>14</td>\n",
       "      <td>177</td>\n",
       "      <td>73</td>\n",
       "      <td>123</td>\n",
       "      <td>351318.0</td>\n",
       "    </tr>\n",
       "    <tr>\n",
       "      <th>1</th>\n",
       "      <td>2</td>\n",
       "      <td>591911</td>\n",
       "      <td>861056</td>\n",
       "      <td>6</td>\n",
       "      <td>117220</td>\n",
       "      <td>5</td>\n",
       "      <td>9</td>\n",
       "      <td>9</td>\n",
       "      <td>148</td>\n",
       "      <td>74</td>\n",
       "      <td>95</td>\n",
       "      <td>285001.5</td>\n",
       "    </tr>\n",
       "    <tr>\n",
       "      <th>2</th>\n",
       "      <td>3</td>\n",
       "      <td>686990</td>\n",
       "      <td>770762</td>\n",
       "      <td>2</td>\n",
       "      <td>132538</td>\n",
       "      <td>2</td>\n",
       "      <td>8</td>\n",
       "      <td>15</td>\n",
       "      <td>181</td>\n",
       "      <td>53</td>\n",
       "      <td>97</td>\n",
       "      <td>215386.0</td>\n",
       "    </tr>\n",
       "    <tr>\n",
       "      <th>3</th>\n",
       "      <td>4</td>\n",
       "      <td>573999</td>\n",
       "      <td>722381</td>\n",
       "      <td>4</td>\n",
       "      <td>101065</td>\n",
       "      <td>4</td>\n",
       "      <td>3</td>\n",
       "      <td>11</td>\n",
       "      <td>197</td>\n",
       "      <td>54</td>\n",
       "      <td>116</td>\n",
       "      <td>244295.5</td>\n",
       "    </tr>\n",
       "    <tr>\n",
       "      <th>4</th>\n",
       "      <td>5</td>\n",
       "      <td>691388</td>\n",
       "      <td>811335</td>\n",
       "      <td>6</td>\n",
       "      <td>61559</td>\n",
       "      <td>3</td>\n",
       "      <td>9</td>\n",
       "      <td>12</td>\n",
       "      <td>160</td>\n",
       "      <td>53</td>\n",
       "      <td>105</td>\n",
       "      <td>531114.5</td>\n",
       "    </tr>\n",
       "  </tbody>\n",
       "</table>\n",
       "</div>"
      ],
      "text/plain": [
       "   v.id  on road old  on road now  years      km  rating  condition  economy  \\\n",
       "0     1       535651       798186      3   78945       1          2       14   \n",
       "1     2       591911       861056      6  117220       5          9        9   \n",
       "2     3       686990       770762      2  132538       2          8       15   \n",
       "3     4       573999       722381      4  101065       4          3       11   \n",
       "4     5       691388       811335      6   61559       3          9       12   \n",
       "\n",
       "   top speed  hp  torque  current price  \n",
       "0        177  73     123       351318.0  \n",
       "1        148  74      95       285001.5  \n",
       "2        181  53      97       215386.0  \n",
       "3        197  54     116       244295.5  \n",
       "4        160  53     105       531114.5  "
      ]
     },
     "execution_count": 3,
     "metadata": {},
     "output_type": "execute_result"
    }
   ],
   "source": [
    "df.head()"
   ]
  },
  {
   "cell_type": "code",
   "execution_count": 4,
   "id": "607a0a94",
   "metadata": {},
   "outputs": [
    {
     "data": {
      "text/plain": [
       "(1000, 12)"
      ]
     },
     "execution_count": 4,
     "metadata": {},
     "output_type": "execute_result"
    }
   ],
   "source": [
    "df.shape"
   ]
  },
  {
   "cell_type": "code",
   "execution_count": 5,
   "id": "bb263217",
   "metadata": {},
   "outputs": [],
   "source": [
    "#sns.pairplot(df[['years', 'km', 'rating', 'condition', 'economy', 'top speed', 'hp', 'torque', 'current price']], diag_kind = 'kde')"
   ]
  },
  {
   "cell_type": "code",
   "execution_count": 6,
   "id": "782153a5",
   "metadata": {},
   "outputs": [
    {
     "name": "stdout",
     "output_type": "stream",
     "text": [
      "tf.Tensor(\n",
      "[[1.000000e+00 5.356510e+05 7.981860e+05 ... 7.300000e+01 1.230000e+02\n",
      "  3.513180e+05]\n",
      " [2.000000e+00 5.919110e+05 8.610560e+05 ... 7.400000e+01 9.500000e+01\n",
      "  2.850015e+05]\n",
      " [3.000000e+00 6.869900e+05 7.707620e+05 ... 5.300000e+01 9.700000e+01\n",
      "  2.153860e+05]\n",
      " ...\n",
      " [9.980000e+02 6.463440e+05 8.427330e+05 ... 1.130000e+02 8.900000e+01\n",
      "  4.058710e+05]\n",
      " [9.990000e+02 5.355590e+05 7.324390e+05 ... 1.120000e+02 1.280000e+02\n",
      "  7.439800e+04]\n",
      " [1.000000e+03 5.901050e+05 7.797430e+05 ... 9.900000e+01 9.600000e+01\n",
      "  4.149385e+05]], shape=(1000, 12), dtype=float32)\n"
     ]
    }
   ],
   "source": [
    "tensor_df =  tf.constant(df)\n",
    "tensor_df =  tf.cast(tensor_df , tf.float32)\n",
    "print(tensor_df)"
   ]
  },
  {
   "cell_type": "code",
   "execution_count": 7,
   "id": "230d44df",
   "metadata": {},
   "outputs": [
    {
     "name": "stdout",
     "output_type": "stream",
     "text": [
      "tf.Tensor(\n",
      "[[5.490000e+02 5.265410e+05 8.417120e+05 6.000000e+00 1.039180e+05\n",
      "  4.000000e+00 7.000000e+00 1.400000e+01 1.450000e+02 1.150000e+02\n",
      "  1.020000e+02 2.737610e+05]\n",
      " [6.630000e+02 6.288550e+05 8.719680e+05 3.000000e+00 8.998600e+04\n",
      "  1.000000e+00 9.000000e+00 8.000000e+00 1.510000e+02 1.070000e+02\n",
      "  1.020000e+02 4.200830e+05]\n",
      " [3.610000e+02 6.970980e+05 7.125900e+05 6.000000e+00 7.501100e+04\n",
      "  1.000000e+00 1.000000e+00 8.000000e+00 1.870000e+02 6.500000e+01\n",
      "  9.900000e+01 4.011205e+05]\n",
      " [7.520000e+02 5.061210e+05 7.637060e+05 2.000000e+00 5.855700e+04\n",
      "  4.000000e+00 2.000000e+00 1.500000e+01 1.960000e+02 9.700000e+01\n",
      "  8.700000e+01 4.015000e+05]\n",
      " [9.240000e+02 5.072720e+05 7.234230e+05 7.000000e+00 1.332510e+05\n",
      "  4.000000e+00 3.000000e+00 1.300000e+01 1.990000e+02 1.020000e+02\n",
      "  1.090000e+02 7.486300e+04]], shape=(5, 12), dtype=float32)\n"
     ]
    }
   ],
   "source": [
    "tensor_df = tf.random.shuffle(tensor_df)\n",
    "print(tensor_df[:5])"
   ]
  },
  {
   "cell_type": "code",
   "execution_count": 8,
   "id": "6d1cc924",
   "metadata": {},
   "outputs": [
    {
     "name": "stdout",
     "output_type": "stream",
     "text": [
      "tf.Tensor(\n",
      "[[6.00000e+00 1.03918e+05 4.00000e+00 7.00000e+00 1.40000e+01 1.45000e+02\n",
      "  1.15000e+02 1.02000e+02]\n",
      " [3.00000e+00 8.99860e+04 1.00000e+00 9.00000e+00 8.00000e+00 1.51000e+02\n",
      "  1.07000e+02 1.02000e+02]\n",
      " [6.00000e+00 7.50110e+04 1.00000e+00 1.00000e+00 8.00000e+00 1.87000e+02\n",
      "  6.50000e+01 9.90000e+01]\n",
      " [2.00000e+00 5.85570e+04 4.00000e+00 2.00000e+00 1.50000e+01 1.96000e+02\n",
      "  9.70000e+01 8.70000e+01]\n",
      " [7.00000e+00 1.33251e+05 4.00000e+00 3.00000e+00 1.30000e+01 1.99000e+02\n",
      "  1.02000e+02 1.09000e+02]], shape=(5, 8), dtype=float32)\n",
      "(1000, 8)\n"
     ]
    }
   ],
   "source": [
    "X = tensor_df[:, 3:-1]\n",
    "print(X[:5])\n",
    "print(X.shape)"
   ]
  },
  {
   "cell_type": "code",
   "execution_count": 9,
   "id": "9021feda",
   "metadata": {},
   "outputs": [
    {
     "name": "stdout",
     "output_type": "stream",
     "text": [
      "(1000, 1)\n",
      "tf.Tensor(\n",
      "[[273761. ]\n",
      " [420083. ]\n",
      " [401120.5]\n",
      " [401500. ]\n",
      " [ 74863. ]], shape=(5, 1), dtype=float32)\n"
     ]
    }
   ],
   "source": [
    "y = tensor_df[:,  -1]\n",
    "y = tf.expand_dims(y, axis = -1)\n",
    "print(y.shape)\n",
    "print(y[:5])"
   ]
  },
  {
   "cell_type": "code",
   "execution_count": 10,
   "id": "9881b68a",
   "metadata": {},
   "outputs": [
    {
     "data": {
      "text/plain": [
       "<tf.Tensor: shape=(2, 5), dtype=float32, numpy=\n",
       "array([[-1. , -0.5,  0. ,  0.5,  1. ],\n",
       "       [-0.5,  0. ,  0.5,  1. ,  1.5]], dtype=float32)>"
      ]
     },
     "execution_count": 10,
     "metadata": {},
     "output_type": "execute_result"
    }
   ],
   "source": [
    "normalizer = Normalization(axis = -1, mean = [5,5,5,5,5], variance = [4,4,4,4,4])\n",
    "x_normalized = tf.constant([[3,4,5,6,7],\n",
    "                            [4,5,6,7,8]])\n",
    "normalizer(x_normalized)"
   ]
  },
  {
   "cell_type": "code",
   "execution_count": 11,
   "id": "9065088b",
   "metadata": {},
   "outputs": [
    {
     "data": {
      "text/plain": [
       "<tf.Tensor: shape=(3, 5), dtype=float32, numpy=\n",
       "array([[-0.746733  , -1.3970013 , -1.4142138 , -1.3363061 ,  0.        ],\n",
       "       [-0.6667259 ,  0.88900095,  0.70710665,  0.2672614 ,  1.2247448 ],\n",
       "       [ 1.4134591 ,  0.50800055,  0.70710665,  1.0690452 , -1.2247448 ]],\n",
       "      dtype=float32)>"
      ]
     },
     "execution_count": 11,
     "metadata": {},
     "output_type": "execute_result"
    }
   ],
   "source": [
    "normalizer =  Normalization()\n",
    "x_normalized  =  tf.constant([[3,4,5,6,7],\n",
    "                             [4,10,7,8,9],\n",
    "                             [30,9,7,9,5]])\n",
    "\n",
    "normalizer.adapt(x_normalized)\n",
    "normalizer(x_normalized)"
   ]
  },
  {
   "cell_type": "code",
   "execution_count": 12,
   "id": "a72560f1",
   "metadata": {},
   "outputs": [
    {
     "name": "stdout",
     "output_type": "stream",
     "text": [
      "(1000, 8)\n"
     ]
    }
   ],
   "source": [
    "print(X.shape)"
   ]
  },
  {
   "cell_type": "code",
   "execution_count": 13,
   "id": "36425acd",
   "metadata": {},
   "outputs": [],
   "source": [
    "TRAIN_RATIO = 0.8\n",
    "VAL_RATIO = 0.1\n",
    "TEST_RATIO =0.1\n",
    "DATASET_SIZE = len(X)"
   ]
  },
  {
   "cell_type": "code",
   "execution_count": 14,
   "id": "dce2bdb1",
   "metadata": {},
   "outputs": [
    {
     "name": "stdout",
     "output_type": "stream",
     "text": [
      "(800, 8)\n",
      "(800, 1)\n"
     ]
    }
   ],
   "source": [
    "x_train =  X[:int(DATASET_SIZE*TRAIN_RATIO)]\n",
    "y_train =  y[:int(DATASET_SIZE*TRAIN_RATIO)]\n",
    "print(x_train.shape)\n",
    "print(y_train.shape)"
   ]
  },
  {
   "cell_type": "code",
   "execution_count": 15,
   "id": "94f58a37",
   "metadata": {},
   "outputs": [],
   "source": [
    "train_dataset = tf.data.Dataset.from_tensor_slices((x_train, y_train))\n",
    "train_dataset = train_dataset.shuffle(buffer_size = 8, reshuffle_each_iteration = True).batch(8).prefetch(tf.data.AUTOTUNE)\n"
   ]
  },
  {
   "cell_type": "code",
   "execution_count": 16,
   "id": "fe671909",
   "metadata": {},
   "outputs": [],
   "source": [
    "# for x,y in train_dataset:\n",
    "#   print(x,y)\n",
    "#   break\n",
    "     "
   ]
  },
  {
   "cell_type": "code",
   "execution_count": 17,
   "id": "29c94c81",
   "metadata": {
    "scrolled": true
   },
   "outputs": [
    {
     "name": "stdout",
     "output_type": "stream",
     "text": [
      "(100, 8)\n",
      "(100, 1)\n"
     ]
    }
   ],
   "source": [
    "x_val = X[int(DATASET_SIZE*TRAIN_RATIO):int(DATASET_SIZE*(TRAIN_RATIO+VAL_RATIO))]\n",
    "y_val = y[int(DATASET_SIZE*TRAIN_RATIO):int(DATASET_SIZE*(TRAIN_RATIO+VAL_RATIO))]\n",
    "print(x_val.shape)\n",
    "print(y_val.shape)"
   ]
  },
  {
   "cell_type": "code",
   "execution_count": 18,
   "id": "e94095e1",
   "metadata": {},
   "outputs": [
    {
     "name": "stdout",
     "output_type": "stream",
     "text": [
      "(1000, 8)\n",
      "(1000, 1)\n"
     ]
    }
   ],
   "source": [
    "print(X.shape)\n",
    "print(y.shape)\n"
   ]
  },
  {
   "cell_type": "code",
   "execution_count": 19,
   "id": "35a44fbd",
   "metadata": {},
   "outputs": [],
   "source": [
    "val_dataset = tf.data.Dataset.from_tensor_slices((x_val, y_val))\n",
    "val_dataset = tf.data.Dataset.from_tensor_slices((x_val, y_val)).batch(8).repeat().prefetch(tf.data.AUTOTUNE)"
   ]
  },
  {
   "cell_type": "code",
   "execution_count": 20,
   "id": "3f9331dc",
   "metadata": {},
   "outputs": [
    {
     "name": "stdout",
     "output_type": "stream",
     "text": [
      "(100, 8)\n",
      "(100, 1)\n"
     ]
    }
   ],
   "source": [
    "x_test =  X[int(DATASET_SIZE*(TRAIN_RATIO+VAL_RATIO)):]\n",
    "y_test =  y[int(DATASET_SIZE*(TRAIN_RATIO+VAL_RATIO)):]\n",
    "print(x_test.shape)\n",
    "print(y_test.shape)"
   ]
  },
  {
   "cell_type": "code",
   "execution_count": 21,
   "id": "fc75ab40",
   "metadata": {},
   "outputs": [],
   "source": [
    "test_dataset = tf.data.Dataset.from_tensor_slices((x_test, y_test))\n",
    "test_dataset = train_dataset.shuffle(buffer_size = 8, reshuffle_each_iteration = True).batch(8).prefetch(tf.data.AUTOTUNE)"
   ]
  },
  {
   "cell_type": "code",
   "execution_count": 22,
   "id": "90cbb2ef",
   "metadata": {},
   "outputs": [
    {
     "data": {
      "text/plain": [
       "<tf.Tensor: shape=(5, 8), dtype=float32, numpy=\n",
       "array([[ 0.826997  ,  0.09797677,  0.725204  ,  0.47118285,  1.0759859 ,\n",
       "        -1.1548378 ,  1.5103972 , -0.0851438 ],\n",
       "       [-0.9325713 , -0.38180482, -1.4103662 ,  1.184421  , -1.586247  ,\n",
       "        -0.84282494,  1.115764  , -0.0851438 ],\n",
       "       [ 0.826997  , -0.8975046 , -1.4103662 , -1.6685313 , -1.586247  ,\n",
       "         1.0292522 , -0.95606065, -0.22764362],\n",
       "       [-1.519094  , -1.4641373 ,  0.725204  , -1.3119122 ,  1.5196913 ,\n",
       "         1.4972715 ,  0.6224724 , -0.7976429 ],\n",
       "       [ 1.4135197 ,  1.1081284 ,  0.725204  , -0.95529324,  0.6322804 ,\n",
       "         1.6532779 ,  0.86911815,  0.24735577]], dtype=float32)>"
      ]
     },
     "execution_count": 22,
     "metadata": {},
     "output_type": "execute_result"
    }
   ],
   "source": [
    "normalizer =  Normalization()\n",
    "normalizer.adapt(x_train)\n",
    "normalizer(x_train)[:5]"
   ]
  },
  {
   "cell_type": "code",
   "execution_count": 23,
   "id": "cea7c4ce",
   "metadata": {},
   "outputs": [
    {
     "name": "stdout",
     "output_type": "stream",
     "text": [
      "tf.Tensor(\n",
      "[[6.00000e+00 1.03918e+05 4.00000e+00 7.00000e+00 1.40000e+01 1.45000e+02\n",
      "  1.15000e+02 1.02000e+02]\n",
      " [3.00000e+00 8.99860e+04 1.00000e+00 9.00000e+00 8.00000e+00 1.51000e+02\n",
      "  1.07000e+02 1.02000e+02]\n",
      " [6.00000e+00 7.50110e+04 1.00000e+00 1.00000e+00 8.00000e+00 1.87000e+02\n",
      "  6.50000e+01 9.90000e+01]\n",
      " [2.00000e+00 5.85570e+04 4.00000e+00 2.00000e+00 1.50000e+01 1.96000e+02\n",
      "  9.70000e+01 8.70000e+01]\n",
      " [7.00000e+00 1.33251e+05 4.00000e+00 3.00000e+00 1.30000e+01 1.99000e+02\n",
      "  1.02000e+02 1.09000e+02]], shape=(5, 8), dtype=float32)\n"
     ]
    }
   ],
   "source": [
    "print(X[:5])"
   ]
  },
  {
   "cell_type": "code",
   "execution_count": 24,
   "id": "66e189a6",
   "metadata": {},
   "outputs": [
    {
     "name": "stderr",
     "output_type": "stream",
     "text": [
      "C:\\Users\\Adnan\\anaconda3\\Lib\\site-packages\\keras\\src\\layers\\core\\input_layer.py:26: UserWarning: Argument `input_shape` is deprecated. Use `shape` instead.\n",
      "  warnings.warn(\n"
     ]
    },
    {
     "data": {
      "text/html": [
       "<pre style=\"white-space:pre;overflow-x:auto;line-height:normal;font-family:Menlo,'DejaVu Sans Mono',consolas,'Courier New',monospace\"><span style=\"font-weight: bold\">Model: \"sequential\"</span>\n",
       "</pre>\n"
      ],
      "text/plain": [
       "\u001b[1mModel: \"sequential\"\u001b[0m\n"
      ]
     },
     "metadata": {},
     "output_type": "display_data"
    },
    {
     "data": {
      "text/html": [
       "<pre style=\"white-space:pre;overflow-x:auto;line-height:normal;font-family:Menlo,'DejaVu Sans Mono',consolas,'Courier New',monospace\">┏━━━━━━━━━━━━━━━━━━━━━━━━━━━━━━━━━━━━━━┳━━━━━━━━━━━━━━━━━━━━━━━━━━━━━┳━━━━━━━━━━━━━━━━━┓\n",
       "┃<span style=\"font-weight: bold\"> Layer (type)                         </span>┃<span style=\"font-weight: bold\"> Output Shape                </span>┃<span style=\"font-weight: bold\">         Param # </span>┃\n",
       "┡━━━━━━━━━━━━━━━━━━━━━━━━━━━━━━━━━━━━━━╇━━━━━━━━━━━━━━━━━━━━━━━━━━━━━╇━━━━━━━━━━━━━━━━━┩\n",
       "│ normalization_2 (<span style=\"color: #0087ff; text-decoration-color: #0087ff\">Normalization</span>)      │ (<span style=\"color: #00d7ff; text-decoration-color: #00d7ff\">None</span>, <span style=\"color: #00af00; text-decoration-color: #00af00\">8</span>)                   │              <span style=\"color: #00af00; text-decoration-color: #00af00\">17</span> │\n",
       "├──────────────────────────────────────┼─────────────────────────────┼─────────────────┤\n",
       "│ dense (<span style=\"color: #0087ff; text-decoration-color: #0087ff\">Dense</span>)                        │ (<span style=\"color: #00d7ff; text-decoration-color: #00d7ff\">None</span>, <span style=\"color: #00af00; text-decoration-color: #00af00\">128</span>)                 │           <span style=\"color: #00af00; text-decoration-color: #00af00\">1,152</span> │\n",
       "├──────────────────────────────────────┼─────────────────────────────┼─────────────────┤\n",
       "│ dense_1 (<span style=\"color: #0087ff; text-decoration-color: #0087ff\">Dense</span>)                      │ (<span style=\"color: #00d7ff; text-decoration-color: #00d7ff\">None</span>, <span style=\"color: #00af00; text-decoration-color: #00af00\">128</span>)                 │          <span style=\"color: #00af00; text-decoration-color: #00af00\">16,512</span> │\n",
       "├──────────────────────────────────────┼─────────────────────────────┼─────────────────┤\n",
       "│ dense_2 (<span style=\"color: #0087ff; text-decoration-color: #0087ff\">Dense</span>)                      │ (<span style=\"color: #00d7ff; text-decoration-color: #00d7ff\">None</span>, <span style=\"color: #00af00; text-decoration-color: #00af00\">128</span>)                 │          <span style=\"color: #00af00; text-decoration-color: #00af00\">16,512</span> │\n",
       "├──────────────────────────────────────┼─────────────────────────────┼─────────────────┤\n",
       "│ dense_3 (<span style=\"color: #0087ff; text-decoration-color: #0087ff\">Dense</span>)                      │ (<span style=\"color: #00d7ff; text-decoration-color: #00d7ff\">None</span>, <span style=\"color: #00af00; text-decoration-color: #00af00\">1</span>)                   │             <span style=\"color: #00af00; text-decoration-color: #00af00\">129</span> │\n",
       "└──────────────────────────────────────┴─────────────────────────────┴─────────────────┘\n",
       "</pre>\n"
      ],
      "text/plain": [
       "┏━━━━━━━━━━━━━━━━━━━━━━━━━━━━━━━━━━━━━━┳━━━━━━━━━━━━━━━━━━━━━━━━━━━━━┳━━━━━━━━━━━━━━━━━┓\n",
       "┃\u001b[1m \u001b[0m\u001b[1mLayer (type)                        \u001b[0m\u001b[1m \u001b[0m┃\u001b[1m \u001b[0m\u001b[1mOutput Shape               \u001b[0m\u001b[1m \u001b[0m┃\u001b[1m \u001b[0m\u001b[1m        Param #\u001b[0m\u001b[1m \u001b[0m┃\n",
       "┡━━━━━━━━━━━━━━━━━━━━━━━━━━━━━━━━━━━━━━╇━━━━━━━━━━━━━━━━━━━━━━━━━━━━━╇━━━━━━━━━━━━━━━━━┩\n",
       "│ normalization_2 (\u001b[38;5;33mNormalization\u001b[0m)      │ (\u001b[38;5;45mNone\u001b[0m, \u001b[38;5;34m8\u001b[0m)                   │              \u001b[38;5;34m17\u001b[0m │\n",
       "├──────────────────────────────────────┼─────────────────────────────┼─────────────────┤\n",
       "│ dense (\u001b[38;5;33mDense\u001b[0m)                        │ (\u001b[38;5;45mNone\u001b[0m, \u001b[38;5;34m128\u001b[0m)                 │           \u001b[38;5;34m1,152\u001b[0m │\n",
       "├──────────────────────────────────────┼─────────────────────────────┼─────────────────┤\n",
       "│ dense_1 (\u001b[38;5;33mDense\u001b[0m)                      │ (\u001b[38;5;45mNone\u001b[0m, \u001b[38;5;34m128\u001b[0m)                 │          \u001b[38;5;34m16,512\u001b[0m │\n",
       "├──────────────────────────────────────┼─────────────────────────────┼─────────────────┤\n",
       "│ dense_2 (\u001b[38;5;33mDense\u001b[0m)                      │ (\u001b[38;5;45mNone\u001b[0m, \u001b[38;5;34m128\u001b[0m)                 │          \u001b[38;5;34m16,512\u001b[0m │\n",
       "├──────────────────────────────────────┼─────────────────────────────┼─────────────────┤\n",
       "│ dense_3 (\u001b[38;5;33mDense\u001b[0m)                      │ (\u001b[38;5;45mNone\u001b[0m, \u001b[38;5;34m1\u001b[0m)                   │             \u001b[38;5;34m129\u001b[0m │\n",
       "└──────────────────────────────────────┴─────────────────────────────┴─────────────────┘\n"
      ]
     },
     "metadata": {},
     "output_type": "display_data"
    },
    {
     "data": {
      "text/html": [
       "<pre style=\"white-space:pre;overflow-x:auto;line-height:normal;font-family:Menlo,'DejaVu Sans Mono',consolas,'Courier New',monospace\"><span style=\"font-weight: bold\"> Total params: </span><span style=\"color: #00af00; text-decoration-color: #00af00\">34,322</span> (134.07 KB)\n",
       "</pre>\n"
      ],
      "text/plain": [
       "\u001b[1m Total params: \u001b[0m\u001b[38;5;34m34,322\u001b[0m (134.07 KB)\n"
      ]
     },
     "metadata": {},
     "output_type": "display_data"
    },
    {
     "data": {
      "text/html": [
       "<pre style=\"white-space:pre;overflow-x:auto;line-height:normal;font-family:Menlo,'DejaVu Sans Mono',consolas,'Courier New',monospace\"><span style=\"font-weight: bold\"> Trainable params: </span><span style=\"color: #00af00; text-decoration-color: #00af00\">34,305</span> (134.00 KB)\n",
       "</pre>\n"
      ],
      "text/plain": [
       "\u001b[1m Trainable params: \u001b[0m\u001b[38;5;34m34,305\u001b[0m (134.00 KB)\n"
      ]
     },
     "metadata": {},
     "output_type": "display_data"
    },
    {
     "data": {
      "text/html": [
       "<pre style=\"white-space:pre;overflow-x:auto;line-height:normal;font-family:Menlo,'DejaVu Sans Mono',consolas,'Courier New',monospace\"><span style=\"font-weight: bold\"> Non-trainable params: </span><span style=\"color: #00af00; text-decoration-color: #00af00\">17</span> (72.00 B)\n",
       "</pre>\n"
      ],
      "text/plain": [
       "\u001b[1m Non-trainable params: \u001b[0m\u001b[38;5;34m17\u001b[0m (72.00 B)\n"
      ]
     },
     "metadata": {},
     "output_type": "display_data"
    }
   ],
   "source": [
    "model = tf.keras.Sequential([\n",
    "    InputLayer(input_shape = (8,)),\n",
    "    normalizer,\n",
    "    Dense(128, activation  = 'relu'),\n",
    "    Dense(128, activation  = 'relu'),\n",
    "    Dense(128, activation  = 'relu'),\n",
    "    Dense(1),\n",
    "    \n",
    "])\n",
    "model.summary()"
   ]
  },
  {
   "cell_type": "code",
   "execution_count": 25,
   "id": "46207746",
   "metadata": {},
   "outputs": [],
   "source": [
    "model.compile(optimizer = Adam(learning_rate = 0.1),\n",
    "              loss = MeanAbsoluteError,\n",
    "             metrics = [RootMeanSquaredError()])"
   ]
  },
  {
   "cell_type": "code",
   "execution_count": 26,
   "id": "b6f136b1",
   "metadata": {},
   "outputs": [],
   "source": [
    "# steps_per_epoch = len(x_train) // 8  # total samples in training data divided by batch size\n",
    "# validation_steps = len(x_val) "
   ]
  },
  {
   "cell_type": "code",
   "execution_count": 27,
   "id": "f6083cb7",
   "metadata": {},
   "outputs": [
    {
     "name": "stdout",
     "output_type": "stream",
     "text": [
      "Epoch 1/100\n",
      "\u001b[1m100/100\u001b[0m \u001b[32m━━━━━━━━━━━━━━━━━━━━\u001b[0m\u001b[37m\u001b[0m \u001b[1m2s\u001b[0m 3ms/step - loss: 150023.3438 - root_mean_squared_error: 189458.3750 - val_loss: 53272.8438 - val_root_mean_squared_error: 64100.0430\n",
      "Epoch 2/100\n",
      "\u001b[1m100/100\u001b[0m \u001b[32m━━━━━━━━━━━━━━━━━━━━\u001b[0m\u001b[37m\u001b[0m \u001b[1m0s\u001b[0m 2ms/step - loss: 51412.8242 - root_mean_squared_error: 62466.0469 - val_loss: 52786.8867 - val_root_mean_squared_error: 64159.8633\n",
      "Epoch 3/100\n",
      "\u001b[1m100/100\u001b[0m \u001b[32m━━━━━━━━━━━━━━━━━━━━\u001b[0m\u001b[37m\u001b[0m \u001b[1m0s\u001b[0m 2ms/step - loss: 52141.7852 - root_mean_squared_error: 64047.6367 - val_loss: 83827.7578 - val_root_mean_squared_error: 99303.7344\n",
      "Epoch 4/100\n",
      "\u001b[1m100/100\u001b[0m \u001b[32m━━━━━━━━━━━━━━━━━━━━\u001b[0m\u001b[37m\u001b[0m \u001b[1m0s\u001b[0m 2ms/step - loss: 53409.6680 - root_mean_squared_error: 67036.7109 - val_loss: 53593.3008 - val_root_mean_squared_error: 64210.3789\n",
      "Epoch 5/100\n",
      "\u001b[1m100/100\u001b[0m \u001b[32m━━━━━━━━━━━━━━━━━━━━\u001b[0m\u001b[37m\u001b[0m \u001b[1m0s\u001b[0m 2ms/step - loss: 48346.9414 - root_mean_squared_error: 60694.2539 - val_loss: 44036.0117 - val_root_mean_squared_error: 52613.4609\n",
      "Epoch 6/100\n",
      "\u001b[1m100/100\u001b[0m \u001b[32m━━━━━━━━━━━━━━━━━━━━\u001b[0m\u001b[37m\u001b[0m \u001b[1m0s\u001b[0m 2ms/step - loss: 40228.0547 - root_mean_squared_error: 51303.2500 - val_loss: 46105.1758 - val_root_mean_squared_error: 54850.0078\n",
      "Epoch 7/100\n",
      "\u001b[1m100/100\u001b[0m \u001b[32m━━━━━━━━━━━━━━━━━━━━\u001b[0m\u001b[37m\u001b[0m \u001b[1m0s\u001b[0m 2ms/step - loss: 42387.6875 - root_mean_squared_error: 53618.2617 - val_loss: 46059.8867 - val_root_mean_squared_error: 56347.1328\n",
      "Epoch 8/100\n",
      "\u001b[1m100/100\u001b[0m \u001b[32m━━━━━━━━━━━━━━━━━━━━\u001b[0m\u001b[37m\u001b[0m \u001b[1m0s\u001b[0m 2ms/step - loss: 51978.6406 - root_mean_squared_error: 64128.7539 - val_loss: 47439.0664 - val_root_mean_squared_error: 56943.1172\n",
      "Epoch 9/100\n",
      "\u001b[1m100/100\u001b[0m \u001b[32m━━━━━━━━━━━━━━━━━━━━\u001b[0m\u001b[37m\u001b[0m \u001b[1m0s\u001b[0m 2ms/step - loss: 52526.6055 - root_mean_squared_error: 67243.5938 - val_loss: 63960.9531 - val_root_mean_squared_error: 73978.8281\n",
      "Epoch 10/100\n",
      "\u001b[1m100/100\u001b[0m \u001b[32m━━━━━━━━━━━━━━━━━━━━\u001b[0m\u001b[37m\u001b[0m \u001b[1m0s\u001b[0m 2ms/step - loss: 45680.1641 - root_mean_squared_error: 56459.9609 - val_loss: 42213.1211 - val_root_mean_squared_error: 51344.8047\n",
      "Epoch 11/100\n",
      "\u001b[1m100/100\u001b[0m \u001b[32m━━━━━━━━━━━━━━━━━━━━\u001b[0m\u001b[37m\u001b[0m \u001b[1m0s\u001b[0m 2ms/step - loss: 42173.6836 - root_mean_squared_error: 52344.6875 - val_loss: 65044.7812 - val_root_mean_squared_error: 74749.4219\n",
      "Epoch 12/100\n",
      "\u001b[1m100/100\u001b[0m \u001b[32m━━━━━━━━━━━━━━━━━━━━\u001b[0m\u001b[37m\u001b[0m \u001b[1m0s\u001b[0m 2ms/step - loss: 44493.9180 - root_mean_squared_error: 56187.4375 - val_loss: 41999.9688 - val_root_mean_squared_error: 50705.0312\n",
      "Epoch 13/100\n",
      "\u001b[1m100/100\u001b[0m \u001b[32m━━━━━━━━━━━━━━━━━━━━\u001b[0m\u001b[37m\u001b[0m \u001b[1m0s\u001b[0m 2ms/step - loss: 38587.3867 - root_mean_squared_error: 48896.1758 - val_loss: 78833.9297 - val_root_mean_squared_error: 89983.6562\n",
      "Epoch 14/100\n",
      "\u001b[1m100/100\u001b[0m \u001b[32m━━━━━━━━━━━━━━━━━━━━\u001b[0m\u001b[37m\u001b[0m \u001b[1m0s\u001b[0m 2ms/step - loss: 48538.2148 - root_mean_squared_error: 61152.6016 - val_loss: 55799.0156 - val_root_mean_squared_error: 66078.6328\n",
      "Epoch 15/100\n",
      "\u001b[1m100/100\u001b[0m \u001b[32m━━━━━━━━━━━━━━━━━━━━\u001b[0m\u001b[37m\u001b[0m \u001b[1m0s\u001b[0m 2ms/step - loss: 42532.6602 - root_mean_squared_error: 53700.1445 - val_loss: 52657.4219 - val_root_mean_squared_error: 61552.2188\n",
      "Epoch 16/100\n",
      "\u001b[1m100/100\u001b[0m \u001b[32m━━━━━━━━━━━━━━━━━━━━\u001b[0m\u001b[37m\u001b[0m \u001b[1m0s\u001b[0m 2ms/step - loss: 43616.5820 - root_mean_squared_error: 53697.5508 - val_loss: 40129.2383 - val_root_mean_squared_error: 48355.6875\n",
      "Epoch 17/100\n",
      "\u001b[1m100/100\u001b[0m \u001b[32m━━━━━━━━━━━━━━━━━━━━\u001b[0m\u001b[37m\u001b[0m \u001b[1m0s\u001b[0m 2ms/step - loss: 37976.2969 - root_mean_squared_error: 47688.4961 - val_loss: 65741.6562 - val_root_mean_squared_error: 77245.3516\n",
      "Epoch 18/100\n",
      "\u001b[1m100/100\u001b[0m \u001b[32m━━━━━━━━━━━━━━━━━━━━\u001b[0m\u001b[37m\u001b[0m \u001b[1m0s\u001b[0m 2ms/step - loss: 42983.3320 - root_mean_squared_error: 53277.0039 - val_loss: 36823.7227 - val_root_mean_squared_error: 45113.8945\n",
      "Epoch 19/100\n",
      "\u001b[1m100/100\u001b[0m \u001b[32m━━━━━━━━━━━━━━━━━━━━\u001b[0m\u001b[37m\u001b[0m \u001b[1m0s\u001b[0m 2ms/step - loss: 38854.2539 - root_mean_squared_error: 48407.8125 - val_loss: 50346.0742 - val_root_mean_squared_error: 59784.7070\n",
      "Epoch 20/100\n",
      "\u001b[1m100/100\u001b[0m \u001b[32m━━━━━━━━━━━━━━━━━━━━\u001b[0m\u001b[37m\u001b[0m \u001b[1m0s\u001b[0m 2ms/step - loss: 40713.5234 - root_mean_squared_error: 51009.9062 - val_loss: 41990.8203 - val_root_mean_squared_error: 50467.4375\n",
      "Epoch 21/100\n",
      "\u001b[1m100/100\u001b[0m \u001b[32m━━━━━━━━━━━━━━━━━━━━\u001b[0m\u001b[37m\u001b[0m \u001b[1m0s\u001b[0m 2ms/step - loss: 38409.7070 - root_mean_squared_error: 47714.1523 - val_loss: 41066.7461 - val_root_mean_squared_error: 48815.8711\n",
      "Epoch 22/100\n",
      "\u001b[1m100/100\u001b[0m \u001b[32m━━━━━━━━━━━━━━━━━━━━\u001b[0m\u001b[37m\u001b[0m \u001b[1m0s\u001b[0m 2ms/step - loss: 37797.0508 - root_mean_squared_error: 47599.0156 - val_loss: 58536.6484 - val_root_mean_squared_error: 66952.8672\n",
      "Epoch 23/100\n",
      "\u001b[1m100/100\u001b[0m \u001b[32m━━━━━━━━━━━━━━━━━━━━\u001b[0m\u001b[37m\u001b[0m \u001b[1m0s\u001b[0m 2ms/step - loss: 39056.7578 - root_mean_squared_error: 49665.6680 - val_loss: 44194.6016 - val_root_mean_squared_error: 52444.6094\n",
      "Epoch 24/100\n",
      "\u001b[1m100/100\u001b[0m \u001b[32m━━━━━━━━━━━━━━━━━━━━\u001b[0m\u001b[37m\u001b[0m \u001b[1m0s\u001b[0m 2ms/step - loss: 38597.7266 - root_mean_squared_error: 47551.8281 - val_loss: 38351.0469 - val_root_mean_squared_error: 46399.6094\n",
      "Epoch 25/100\n",
      "\u001b[1m100/100\u001b[0m \u001b[32m━━━━━━━━━━━━━━━━━━━━\u001b[0m\u001b[37m\u001b[0m \u001b[1m0s\u001b[0m 2ms/step - loss: 34595.3008 - root_mean_squared_error: 43570.2578 - val_loss: 45610.1836 - val_root_mean_squared_error: 54728.7188\n",
      "Epoch 26/100\n",
      "\u001b[1m100/100\u001b[0m \u001b[32m━━━━━━━━━━━━━━━━━━━━\u001b[0m\u001b[37m\u001b[0m \u001b[1m0s\u001b[0m 2ms/step - loss: 36416.2383 - root_mean_squared_error: 45966.2773 - val_loss: 51440.8516 - val_root_mean_squared_error: 60321.5078\n",
      "Epoch 27/100\n",
      "\u001b[1m100/100\u001b[0m \u001b[32m━━━━━━━━━━━━━━━━━━━━\u001b[0m\u001b[37m\u001b[0m \u001b[1m0s\u001b[0m 2ms/step - loss: 40594.2734 - root_mean_squared_error: 50611.1719 - val_loss: 36339.9414 - val_root_mean_squared_error: 44328.6445\n",
      "Epoch 28/100\n",
      "\u001b[1m100/100\u001b[0m \u001b[32m━━━━━━━━━━━━━━━━━━━━\u001b[0m\u001b[37m\u001b[0m \u001b[1m0s\u001b[0m 2ms/step - loss: 35807.8086 - root_mean_squared_error: 45477.3672 - val_loss: 49972.5664 - val_root_mean_squared_error: 58328.2539\n",
      "Epoch 29/100\n",
      "\u001b[1m100/100\u001b[0m \u001b[32m━━━━━━━━━━━━━━━━━━━━\u001b[0m\u001b[37m\u001b[0m \u001b[1m0s\u001b[0m 2ms/step - loss: 41019.7422 - root_mean_squared_error: 51091.7734 - val_loss: 36218.8359 - val_root_mean_squared_error: 44622.5391\n",
      "Epoch 30/100\n",
      "\u001b[1m100/100\u001b[0m \u001b[32m━━━━━━━━━━━━━━━━━━━━\u001b[0m\u001b[37m\u001b[0m \u001b[1m0s\u001b[0m 2ms/step - loss: 35970.5312 - root_mean_squared_error: 44821.1836 - val_loss: 45423.2383 - val_root_mean_squared_error: 53581.0469\n",
      "Epoch 31/100\n",
      "\u001b[1m100/100\u001b[0m \u001b[32m━━━━━━━━━━━━━━━━━━━━\u001b[0m\u001b[37m\u001b[0m \u001b[1m0s\u001b[0m 2ms/step - loss: 38426.5898 - root_mean_squared_error: 47600.8984 - val_loss: 41167.5547 - val_root_mean_squared_error: 49470.9453\n",
      "Epoch 32/100\n",
      "\u001b[1m100/100\u001b[0m \u001b[32m━━━━━━━━━━━━━━━━━━━━\u001b[0m\u001b[37m\u001b[0m \u001b[1m0s\u001b[0m 2ms/step - loss: 36435.2773 - root_mean_squared_error: 45789.0195 - val_loss: 39104.5000 - val_root_mean_squared_error: 47029.6797\n",
      "Epoch 33/100\n",
      "\u001b[1m100/100\u001b[0m \u001b[32m━━━━━━━━━━━━━━━━━━━━\u001b[0m\u001b[37m\u001b[0m \u001b[1m0s\u001b[0m 2ms/step - loss: 35999.1133 - root_mean_squared_error: 45001.1758 - val_loss: 36442.4727 - val_root_mean_squared_error: 44268.8281\n",
      "Epoch 34/100\n",
      "\u001b[1m100/100\u001b[0m \u001b[32m━━━━━━━━━━━━━━━━━━━━\u001b[0m\u001b[37m\u001b[0m \u001b[1m0s\u001b[0m 2ms/step - loss: 35391.3281 - root_mean_squared_error: 44822.4023 - val_loss: 38797.0859 - val_root_mean_squared_error: 46738.2188\n",
      "Epoch 35/100\n",
      "\u001b[1m100/100\u001b[0m \u001b[32m━━━━━━━━━━━━━━━━━━━━\u001b[0m\u001b[37m\u001b[0m \u001b[1m0s\u001b[0m 2ms/step - loss: 36266.9062 - root_mean_squared_error: 45025.7266 - val_loss: 39741.3750 - val_root_mean_squared_error: 47141.5000\n",
      "Epoch 36/100\n",
      "\u001b[1m100/100\u001b[0m \u001b[32m━━━━━━━━━━━━━━━━━━━━\u001b[0m\u001b[37m\u001b[0m \u001b[1m0s\u001b[0m 2ms/step - loss: 35874.9531 - root_mean_squared_error: 44074.3008 - val_loss: 37511.9492 - val_root_mean_squared_error: 45703.3750\n",
      "Epoch 37/100\n",
      "\u001b[1m100/100\u001b[0m \u001b[32m━━━━━━━━━━━━━━━━━━━━\u001b[0m\u001b[37m\u001b[0m \u001b[1m0s\u001b[0m 2ms/step - loss: 34147.3164 - root_mean_squared_error: 43180.1836 - val_loss: 38935.0352 - val_root_mean_squared_error: 46532.9766\n",
      "Epoch 38/100\n",
      "\u001b[1m100/100\u001b[0m \u001b[32m━━━━━━━━━━━━━━━━━━━━\u001b[0m\u001b[37m\u001b[0m \u001b[1m0s\u001b[0m 2ms/step - loss: 34753.9023 - root_mean_squared_error: 43818.4375 - val_loss: 37347.9688 - val_root_mean_squared_error: 45238.9453\n",
      "Epoch 39/100\n",
      "\u001b[1m100/100\u001b[0m \u001b[32m━━━━━━━━━━━━━━━━━━━━\u001b[0m\u001b[37m\u001b[0m \u001b[1m0s\u001b[0m 2ms/step - loss: 34717.2969 - root_mean_squared_error: 44557.5352 - val_loss: 36461.8125 - val_root_mean_squared_error: 43455.7695\n",
      "Epoch 40/100\n"
     ]
    },
    {
     "name": "stdout",
     "output_type": "stream",
     "text": [
      "\u001b[1m100/100\u001b[0m \u001b[32m━━━━━━━━━━━━━━━━━━━━\u001b[0m\u001b[37m\u001b[0m \u001b[1m0s\u001b[0m 2ms/step - loss: 34241.3984 - root_mean_squared_error: 43956.5820 - val_loss: 36828.2539 - val_root_mean_squared_error: 44060.5547\n",
      "Epoch 41/100\n",
      "\u001b[1m100/100\u001b[0m \u001b[32m━━━━━━━━━━━━━━━━━━━━\u001b[0m\u001b[37m\u001b[0m \u001b[1m0s\u001b[0m 1ms/step - loss: 34970.5664 - root_mean_squared_error: 44165.8672 - val_loss: 39754.1758 - val_root_mean_squared_error: 47156.2031\n",
      "Epoch 42/100\n",
      "\u001b[1m100/100\u001b[0m \u001b[32m━━━━━━━━━━━━━━━━━━━━\u001b[0m\u001b[37m\u001b[0m \u001b[1m0s\u001b[0m 2ms/step - loss: 36413.0117 - root_mean_squared_error: 45864.7969 - val_loss: 44176.3047 - val_root_mean_squared_error: 52907.1836\n",
      "Epoch 43/100\n",
      "\u001b[1m100/100\u001b[0m \u001b[32m━━━━━━━━━━━━━━━━━━━━\u001b[0m\u001b[37m\u001b[0m \u001b[1m0s\u001b[0m 2ms/step - loss: 35787.9023 - root_mean_squared_error: 45056.8281 - val_loss: 44871.3516 - val_root_mean_squared_error: 53109.1875\n",
      "Epoch 44/100\n",
      "\u001b[1m100/100\u001b[0m \u001b[32m━━━━━━━━━━━━━━━━━━━━\u001b[0m\u001b[37m\u001b[0m \u001b[1m0s\u001b[0m 2ms/step - loss: 36719.2148 - root_mean_squared_error: 45689.3086 - val_loss: 37386.8438 - val_root_mean_squared_error: 45053.3750\n",
      "Epoch 45/100\n",
      "\u001b[1m100/100\u001b[0m \u001b[32m━━━━━━━━━━━━━━━━━━━━\u001b[0m\u001b[37m\u001b[0m \u001b[1m0s\u001b[0m 2ms/step - loss: 34079.8945 - root_mean_squared_error: 43103.4375 - val_loss: 38604.0781 - val_root_mean_squared_error: 46290.2070\n",
      "Epoch 46/100\n",
      "\u001b[1m100/100\u001b[0m \u001b[32m━━━━━━━━━━━━━━━━━━━━\u001b[0m\u001b[37m\u001b[0m \u001b[1m0s\u001b[0m 2ms/step - loss: 34148.1523 - root_mean_squared_error: 42970.9180 - val_loss: 40524.0547 - val_root_mean_squared_error: 49363.8438\n",
      "Epoch 47/100\n",
      "\u001b[1m100/100\u001b[0m \u001b[32m━━━━━━━━━━━━━━━━━━━━\u001b[0m\u001b[37m\u001b[0m \u001b[1m0s\u001b[0m 2ms/step - loss: 35353.8789 - root_mean_squared_error: 44835.2031 - val_loss: 40260.2578 - val_root_mean_squared_error: 49020.7266\n",
      "Epoch 48/100\n",
      "\u001b[1m100/100\u001b[0m \u001b[32m━━━━━━━━━━━━━━━━━━━━\u001b[0m\u001b[37m\u001b[0m \u001b[1m0s\u001b[0m 2ms/step - loss: 35471.2812 - root_mean_squared_error: 44282.1562 - val_loss: 37583.9492 - val_root_mean_squared_error: 46159.8867\n",
      "Epoch 49/100\n",
      "\u001b[1m100/100\u001b[0m \u001b[32m━━━━━━━━━━━━━━━━━━━━\u001b[0m\u001b[37m\u001b[0m \u001b[1m0s\u001b[0m 2ms/step - loss: 33163.9492 - root_mean_squared_error: 42099.8125 - val_loss: 39326.1836 - val_root_mean_squared_error: 46236.0508\n",
      "Epoch 50/100\n",
      "\u001b[1m100/100\u001b[0m \u001b[32m━━━━━━━━━━━━━━━━━━━━\u001b[0m\u001b[37m\u001b[0m \u001b[1m0s\u001b[0m 2ms/step - loss: 34133.9453 - root_mean_squared_error: 43538.3711 - val_loss: 38188.1641 - val_root_mean_squared_error: 46139.7461\n",
      "Epoch 51/100\n",
      "\u001b[1m100/100\u001b[0m \u001b[32m━━━━━━━━━━━━━━━━━━━━\u001b[0m\u001b[37m\u001b[0m \u001b[1m0s\u001b[0m 2ms/step - loss: 33489.9727 - root_mean_squared_error: 42513.7812 - val_loss: 38921.2305 - val_root_mean_squared_error: 47639.6875\n",
      "Epoch 52/100\n",
      "\u001b[1m100/100\u001b[0m \u001b[32m━━━━━━━━━━━━━━━━━━━━\u001b[0m\u001b[37m\u001b[0m \u001b[1m0s\u001b[0m 2ms/step - loss: 35446.2656 - root_mean_squared_error: 44373.0430 - val_loss: 37528.3477 - val_root_mean_squared_error: 44423.0547\n",
      "Epoch 53/100\n",
      "\u001b[1m100/100\u001b[0m \u001b[32m━━━━━━━━━━━━━━━━━━━━\u001b[0m\u001b[37m\u001b[0m \u001b[1m0s\u001b[0m 2ms/step - loss: 33181.7109 - root_mean_squared_error: 42348.4961 - val_loss: 39526.0234 - val_root_mean_squared_error: 48268.5547\n",
      "Epoch 54/100\n",
      "\u001b[1m100/100\u001b[0m \u001b[32m━━━━━━━━━━━━━━━━━━━━\u001b[0m\u001b[37m\u001b[0m \u001b[1m0s\u001b[0m 2ms/step - loss: 34501.0625 - root_mean_squared_error: 43701.4062 - val_loss: 36582.4023 - val_root_mean_squared_error: 44419.8672\n",
      "Epoch 55/100\n",
      "\u001b[1m100/100\u001b[0m \u001b[32m━━━━━━━━━━━━━━━━━━━━\u001b[0m\u001b[37m\u001b[0m \u001b[1m0s\u001b[0m 2ms/step - loss: 34183.9297 - root_mean_squared_error: 43404.1250 - val_loss: 40549.4297 - val_root_mean_squared_error: 48911.9141\n",
      "Epoch 56/100\n",
      "\u001b[1m100/100\u001b[0m \u001b[32m━━━━━━━━━━━━━━━━━━━━\u001b[0m\u001b[37m\u001b[0m \u001b[1m0s\u001b[0m 2ms/step - loss: 34297.9219 - root_mean_squared_error: 43334.5742 - val_loss: 37150.8008 - val_root_mean_squared_error: 45172.2109\n",
      "Epoch 57/100\n",
      "\u001b[1m100/100\u001b[0m \u001b[32m━━━━━━━━━━━━━━━━━━━━\u001b[0m\u001b[37m\u001b[0m \u001b[1m0s\u001b[0m 2ms/step - loss: 32527.7891 - root_mean_squared_error: 41226.7656 - val_loss: 39156.6875 - val_root_mean_squared_error: 46426.3320\n",
      "Epoch 58/100\n",
      "\u001b[1m100/100\u001b[0m \u001b[32m━━━━━━━━━━━━━━━━━━━━\u001b[0m\u001b[37m\u001b[0m \u001b[1m0s\u001b[0m 2ms/step - loss: 33266.3438 - root_mean_squared_error: 41869.5352 - val_loss: 39815.1719 - val_root_mean_squared_error: 46771.4844\n",
      "Epoch 59/100\n",
      "\u001b[1m100/100\u001b[0m \u001b[32m━━━━━━━━━━━━━━━━━━━━\u001b[0m\u001b[37m\u001b[0m \u001b[1m0s\u001b[0m 2ms/step - loss: 34498.2734 - root_mean_squared_error: 44173.7578 - val_loss: 37881.5664 - val_root_mean_squared_error: 45136.3047\n",
      "Epoch 60/100\n",
      "\u001b[1m100/100\u001b[0m \u001b[32m━━━━━━━━━━━━━━━━━━━━\u001b[0m\u001b[37m\u001b[0m \u001b[1m0s\u001b[0m 2ms/step - loss: 32401.1348 - root_mean_squared_error: 41199.8438 - val_loss: 38182.0430 - val_root_mean_squared_error: 45553.1328\n",
      "Epoch 61/100\n",
      "\u001b[1m100/100\u001b[0m \u001b[32m━━━━━━━━━━━━━━━━━━━━\u001b[0m\u001b[37m\u001b[0m \u001b[1m0s\u001b[0m 2ms/step - loss: 32443.6465 - root_mean_squared_error: 40990.3594 - val_loss: 37519.1875 - val_root_mean_squared_error: 45324.6094\n",
      "Epoch 62/100\n",
      "\u001b[1m100/100\u001b[0m \u001b[32m━━━━━━━━━━━━━━━━━━━━\u001b[0m\u001b[37m\u001b[0m \u001b[1m0s\u001b[0m 2ms/step - loss: 33045.7891 - root_mean_squared_error: 41951.0820 - val_loss: 43128.2266 - val_root_mean_squared_error: 52110.1133\n",
      "Epoch 63/100\n",
      "\u001b[1m100/100\u001b[0m \u001b[32m━━━━━━━━━━━━━━━━━━━━\u001b[0m\u001b[37m\u001b[0m \u001b[1m0s\u001b[0m 2ms/step - loss: 36057.6602 - root_mean_squared_error: 45490.3828 - val_loss: 38528.3359 - val_root_mean_squared_error: 45334.5391\n",
      "Epoch 64/100\n",
      "\u001b[1m100/100\u001b[0m \u001b[32m━━━━━━━━━━━━━━━━━━━━\u001b[0m\u001b[37m\u001b[0m \u001b[1m0s\u001b[0m 2ms/step - loss: 32601.3086 - root_mean_squared_error: 41593.3516 - val_loss: 37853.9062 - val_root_mean_squared_error: 44976.2031\n",
      "Epoch 65/100\n",
      "\u001b[1m100/100\u001b[0m \u001b[32m━━━━━━━━━━━━━━━━━━━━\u001b[0m\u001b[37m\u001b[0m \u001b[1m0s\u001b[0m 2ms/step - loss: 33166.0352 - root_mean_squared_error: 42654.4609 - val_loss: 39478.9062 - val_root_mean_squared_error: 46478.9609\n",
      "Epoch 66/100\n",
      "\u001b[1m100/100\u001b[0m \u001b[32m━━━━━━━━━━━━━━━━━━━━\u001b[0m\u001b[37m\u001b[0m \u001b[1m0s\u001b[0m 2ms/step - loss: 32532.5469 - root_mean_squared_error: 41303.2812 - val_loss: 39302.5742 - val_root_mean_squared_error: 46624.8164\n",
      "Epoch 67/100\n",
      "\u001b[1m100/100\u001b[0m \u001b[32m━━━━━━━━━━━━━━━━━━━━\u001b[0m\u001b[37m\u001b[0m \u001b[1m0s\u001b[0m 2ms/step - loss: 31198.4141 - root_mean_squared_error: 40387.9883 - val_loss: 39348.1719 - val_root_mean_squared_error: 46981.7773\n",
      "Epoch 68/100\n",
      "\u001b[1m100/100\u001b[0m \u001b[32m━━━━━━━━━━━━━━━━━━━━\u001b[0m\u001b[37m\u001b[0m \u001b[1m0s\u001b[0m 2ms/step - loss: 31386.5293 - root_mean_squared_error: 40487.9531 - val_loss: 41374.6992 - val_root_mean_squared_error: 49269.9414\n",
      "Epoch 69/100\n",
      "\u001b[1m100/100\u001b[0m \u001b[32m━━━━━━━━━━━━━━━━━━━━\u001b[0m\u001b[37m\u001b[0m \u001b[1m0s\u001b[0m 2ms/step - loss: 33476.6250 - root_mean_squared_error: 42649.8203 - val_loss: 39867.5664 - val_root_mean_squared_error: 47142.8242\n",
      "Epoch 70/100\n",
      "\u001b[1m100/100\u001b[0m \u001b[32m━━━━━━━━━━━━━━━━━━━━\u001b[0m\u001b[37m\u001b[0m \u001b[1m0s\u001b[0m 2ms/step - loss: 30860.6660 - root_mean_squared_error: 39688.3789 - val_loss: 40625.2422 - val_root_mean_squared_error: 47560.2031\n",
      "Epoch 71/100\n",
      "\u001b[1m100/100\u001b[0m \u001b[32m━━━━━━━━━━━━━━━━━━━━\u001b[0m\u001b[37m\u001b[0m \u001b[1m0s\u001b[0m 2ms/step - loss: 31705.8477 - root_mean_squared_error: 40601.2617 - val_loss: 40826.1875 - val_root_mean_squared_error: 48026.2070\n",
      "Epoch 72/100\n",
      "\u001b[1m100/100\u001b[0m \u001b[32m━━━━━━━━━━━━━━━━━━━━\u001b[0m\u001b[37m\u001b[0m \u001b[1m0s\u001b[0m 2ms/step - loss: 32099.1836 - root_mean_squared_error: 40540.7891 - val_loss: 41038.6445 - val_root_mean_squared_error: 49619.5195\n",
      "Epoch 73/100\n",
      "\u001b[1m100/100\u001b[0m \u001b[32m━━━━━━━━━━━━━━━━━━━━\u001b[0m\u001b[37m\u001b[0m \u001b[1m0s\u001b[0m 2ms/step - loss: 32404.6641 - root_mean_squared_error: 41651.8125 - val_loss: 41014.8438 - val_root_mean_squared_error: 48552.8203\n",
      "Epoch 74/100\n",
      "\u001b[1m100/100\u001b[0m \u001b[32m━━━━━━━━━━━━━━━━━━━━\u001b[0m\u001b[37m\u001b[0m \u001b[1m0s\u001b[0m 2ms/step - loss: 31869.6602 - root_mean_squared_error: 40809.2852 - val_loss: 41001.1445 - val_root_mean_squared_error: 48891.9961\n",
      "Epoch 75/100\n",
      "\u001b[1m100/100\u001b[0m \u001b[32m━━━━━━━━━━━━━━━━━━━━\u001b[0m\u001b[37m\u001b[0m \u001b[1m0s\u001b[0m 2ms/step - loss: 33912.4570 - root_mean_squared_error: 43709.6992 - val_loss: 43526.5195 - val_root_mean_squared_error: 51508.5039\n",
      "Epoch 76/100\n",
      "\u001b[1m100/100\u001b[0m \u001b[32m━━━━━━━━━━━━━━━━━━━━\u001b[0m\u001b[37m\u001b[0m \u001b[1m0s\u001b[0m 2ms/step - loss: 31307.2383 - root_mean_squared_error: 39864.0000 - val_loss: 40570.9805 - val_root_mean_squared_error: 48279.1484\n",
      "Epoch 77/100\n",
      "\u001b[1m100/100\u001b[0m \u001b[32m━━━━━━━━━━━━━━━━━━━━\u001b[0m\u001b[37m\u001b[0m \u001b[1m0s\u001b[0m 2ms/step - loss: 30629.6680 - root_mean_squared_error: 39614.2734 - val_loss: 40189.8633 - val_root_mean_squared_error: 47664.5117\n",
      "Epoch 78/100\n",
      "\u001b[1m100/100\u001b[0m \u001b[32m━━━━━━━━━━━━━━━━━━━━\u001b[0m\u001b[37m\u001b[0m \u001b[1m0s\u001b[0m 2ms/step - loss: 30459.8340 - root_mean_squared_error: 39316.3867 - val_loss: 41513.8125 - val_root_mean_squared_error: 48694.6953\n",
      "Epoch 79/100\n"
     ]
    },
    {
     "name": "stdout",
     "output_type": "stream",
     "text": [
      "\u001b[1m100/100\u001b[0m \u001b[32m━━━━━━━━━━━━━━━━━━━━\u001b[0m\u001b[37m\u001b[0m \u001b[1m0s\u001b[0m 2ms/step - loss: 30864.0098 - root_mean_squared_error: 40276.8047 - val_loss: 41173.3242 - val_root_mean_squared_error: 48739.6250\n",
      "Epoch 80/100\n",
      "\u001b[1m100/100\u001b[0m \u001b[32m━━━━━━━━━━━━━━━━━━━━\u001b[0m\u001b[37m\u001b[0m \u001b[1m0s\u001b[0m 2ms/step - loss: 30374.2285 - root_mean_squared_error: 39697.4727 - val_loss: 39843.3281 - val_root_mean_squared_error: 47942.6172\n",
      "Epoch 81/100\n",
      "\u001b[1m100/100\u001b[0m \u001b[32m━━━━━━━━━━━━━━━━━━━━\u001b[0m\u001b[37m\u001b[0m \u001b[1m0s\u001b[0m 2ms/step - loss: 30661.0215 - root_mean_squared_error: 39650.8477 - val_loss: 40163.4492 - val_root_mean_squared_error: 47344.8711\n",
      "Epoch 82/100\n",
      "\u001b[1m100/100\u001b[0m \u001b[32m━━━━━━━━━━━━━━━━━━━━\u001b[0m\u001b[37m\u001b[0m \u001b[1m0s\u001b[0m 2ms/step - loss: 29651.6797 - root_mean_squared_error: 38692.3867 - val_loss: 40544.3320 - val_root_mean_squared_error: 48120.9766\n",
      "Epoch 83/100\n",
      "\u001b[1m100/100\u001b[0m \u001b[32m━━━━━━━━━━━━━━━━━━━━\u001b[0m\u001b[37m\u001b[0m \u001b[1m0s\u001b[0m 2ms/step - loss: 30518.1816 - root_mean_squared_error: 39987.7461 - val_loss: 39829.6914 - val_root_mean_squared_error: 47452.2617\n",
      "Epoch 84/100\n",
      "\u001b[1m100/100\u001b[0m \u001b[32m━━━━━━━━━━━━━━━━━━━━\u001b[0m\u001b[37m\u001b[0m \u001b[1m0s\u001b[0m 2ms/step - loss: 30757.5254 - root_mean_squared_error: 40671.0977 - val_loss: 40290.6250 - val_root_mean_squared_error: 47803.0938\n",
      "Epoch 85/100\n",
      "\u001b[1m100/100\u001b[0m \u001b[32m━━━━━━━━━━━━━━━━━━━━\u001b[0m\u001b[37m\u001b[0m \u001b[1m0s\u001b[0m 2ms/step - loss: 30254.7285 - root_mean_squared_error: 39584.1016 - val_loss: 41608.1680 - val_root_mean_squared_error: 48899.7344\n",
      "Epoch 86/100\n",
      "\u001b[1m100/100\u001b[0m \u001b[32m━━━━━━━━━━━━━━━━━━━━\u001b[0m\u001b[37m\u001b[0m \u001b[1m0s\u001b[0m 2ms/step - loss: 30585.4316 - root_mean_squared_error: 39834.0469 - val_loss: 42252.8281 - val_root_mean_squared_error: 50480.3008\n",
      "Epoch 87/100\n",
      "\u001b[1m100/100\u001b[0m \u001b[32m━━━━━━━━━━━━━━━━━━━━\u001b[0m\u001b[37m\u001b[0m \u001b[1m0s\u001b[0m 2ms/step - loss: 31931.9980 - root_mean_squared_error: 41031.5391 - val_loss: 41225.4453 - val_root_mean_squared_error: 48501.1055\n",
      "Epoch 88/100\n",
      "\u001b[1m100/100\u001b[0m \u001b[32m━━━━━━━━━━━━━━━━━━━━\u001b[0m\u001b[37m\u001b[0m \u001b[1m0s\u001b[0m 2ms/step - loss: 30302.4688 - root_mean_squared_error: 39549.3516 - val_loss: 40492.3672 - val_root_mean_squared_error: 47357.0859\n",
      "Epoch 89/100\n",
      "\u001b[1m100/100\u001b[0m \u001b[32m━━━━━━━━━━━━━━━━━━━━\u001b[0m\u001b[37m\u001b[0m \u001b[1m0s\u001b[0m 2ms/step - loss: 29370.6660 - root_mean_squared_error: 38216.7422 - val_loss: 40823.4453 - val_root_mean_squared_error: 48449.0234\n",
      "Epoch 90/100\n",
      "\u001b[1m100/100\u001b[0m \u001b[32m━━━━━━━━━━━━━━━━━━━━\u001b[0m\u001b[37m\u001b[0m \u001b[1m0s\u001b[0m 2ms/step - loss: 29529.9062 - root_mean_squared_error: 38207.3008 - val_loss: 41376.0312 - val_root_mean_squared_error: 49272.4688\n",
      "Epoch 91/100\n",
      "\u001b[1m100/100\u001b[0m \u001b[32m━━━━━━━━━━━━━━━━━━━━\u001b[0m\u001b[37m\u001b[0m \u001b[1m0s\u001b[0m 2ms/step - loss: 29684.1719 - root_mean_squared_error: 39258.0977 - val_loss: 43457.7695 - val_root_mean_squared_error: 52345.2109\n",
      "Epoch 92/100\n",
      "\u001b[1m100/100\u001b[0m \u001b[32m━━━━━━━━━━━━━━━━━━━━\u001b[0m\u001b[37m\u001b[0m \u001b[1m0s\u001b[0m 2ms/step - loss: 32103.3965 - root_mean_squared_error: 41438.2461 - val_loss: 44483.6055 - val_root_mean_squared_error: 53355.5820\n",
      "Epoch 93/100\n",
      "\u001b[1m100/100\u001b[0m \u001b[32m━━━━━━━━━━━━━━━━━━━━\u001b[0m\u001b[37m\u001b[0m \u001b[1m0s\u001b[0m 2ms/step - loss: 31054.3281 - root_mean_squared_error: 41096.5078 - val_loss: 41935.9531 - val_root_mean_squared_error: 49607.2852\n",
      "Epoch 94/100\n",
      "\u001b[1m100/100\u001b[0m \u001b[32m━━━━━━━━━━━━━━━━━━━━\u001b[0m\u001b[37m\u001b[0m \u001b[1m0s\u001b[0m 2ms/step - loss: 30017.0039 - root_mean_squared_error: 39545.9141 - val_loss: 42201.5781 - val_root_mean_squared_error: 49475.6680\n",
      "Epoch 95/100\n",
      "\u001b[1m100/100\u001b[0m \u001b[32m━━━━━━━━━━━━━━━━━━━━\u001b[0m\u001b[37m\u001b[0m \u001b[1m0s\u001b[0m 2ms/step - loss: 29756.1758 - root_mean_squared_error: 39449.6172 - val_loss: 43150.3711 - val_root_mean_squared_error: 51269.0703\n",
      "Epoch 96/100\n",
      "\u001b[1m100/100\u001b[0m \u001b[32m━━━━━━━━━━━━━━━━━━━━\u001b[0m\u001b[37m\u001b[0m \u001b[1m0s\u001b[0m 2ms/step - loss: 28669.9414 - root_mean_squared_error: 37966.4883 - val_loss: 41183.6836 - val_root_mean_squared_error: 49158.8086\n",
      "Epoch 97/100\n",
      "\u001b[1m100/100\u001b[0m \u001b[32m━━━━━━━━━━━━━━━━━━━━\u001b[0m\u001b[37m\u001b[0m \u001b[1m0s\u001b[0m 2ms/step - loss: 30066.6992 - root_mean_squared_error: 39570.8711 - val_loss: 40609.6484 - val_root_mean_squared_error: 48755.0938\n",
      "Epoch 98/100\n",
      "\u001b[1m100/100\u001b[0m \u001b[32m━━━━━━━━━━━━━━━━━━━━\u001b[0m\u001b[37m\u001b[0m \u001b[1m0s\u001b[0m 2ms/step - loss: 28107.4727 - root_mean_squared_error: 37431.7031 - val_loss: 43998.5547 - val_root_mean_squared_error: 52838.6289\n",
      "Epoch 99/100\n",
      "\u001b[1m100/100\u001b[0m \u001b[32m━━━━━━━━━━━━━━━━━━━━\u001b[0m\u001b[37m\u001b[0m \u001b[1m0s\u001b[0m 2ms/step - loss: 29049.5020 - root_mean_squared_error: 38015.7305 - val_loss: 41650.0117 - val_root_mean_squared_error: 50410.0586\n",
      "Epoch 100/100\n",
      "\u001b[1m100/100\u001b[0m \u001b[32m━━━━━━━━━━━━━━━━━━━━\u001b[0m\u001b[37m\u001b[0m \u001b[1m0s\u001b[0m 2ms/step - loss: 28102.2480 - root_mean_squared_error: 37592.5234 - val_loss: 41694.0508 - val_root_mean_squared_error: 50663.4844\n"
     ]
    }
   ],
   "source": [
    "history = model.fit(train_dataset, validation_data = (x_val, y_val), epochs = 100,  verbose = 1)"
   ]
  },
  {
   "cell_type": "code",
   "execution_count": 28,
   "id": "e9f62e7e",
   "metadata": {},
   "outputs": [
    {
     "data": {
      "image/png": "[encoded data removed]",
      "text/plain": [
       "<Figure size 640x480 with 1 Axes>"
      ]
     },
     "metadata": {},
     "output_type": "display_data"
    }
   ],
   "source": [
    "plt.plot(history.history['loss'])\n",
    "plt.plot(history.history['val_loss'])\n",
    "plt.title('model loss')\n",
    "plt.ylabel('loss')\n",
    "plt.xlabel('epoch')\n",
    "plt.legend(['train', 'val_loss'])\n",
    "plt.show()"
   ]
  },
  {
   "cell_type": "code",
   "execution_count": 29,
   "id": "5065962a",
   "metadata": {},
   "outputs": [
    {
     "data": {
      "image/png": "[encoded data removed]",
      "text/plain": [
       "<Figure size 640x480 with 1 Axes>"
      ]
     },
     "metadata": {},
     "output_type": "display_data"
    }
   ],
   "source": [
    "plt.plot(history.history['root_mean_squared_error'])\n",
    "plt.plot(history.history['val_root_mean_squared_error'])\n",
    "plt.title('model performance')\n",
    "plt.ylabel('rmse')\n",
    "plt.xlabel('epoch')\n",
    "plt.legend(['train', 'val'])\n",
    "plt.show()\n",
    "     "
   ]
  },
  {
   "cell_type": "code",
   "execution_count": 30,
   "id": "c2d61d66",
   "metadata": {},
   "outputs": [
    {
     "name": "stdout",
     "output_type": "stream",
     "text": [
      "\u001b[1m4/4\u001b[0m \u001b[32m━━━━━━━━━━━━━━━━━━━━\u001b[0m\u001b[37m\u001b[0m \u001b[1m0s\u001b[0m 3ms/step - loss: 42869.3984 - root_mean_squared_error: 52308.1172 \n"
     ]
    },
    {
     "data": {
      "text/plain": [
       "[41745.98828125, 51825.6953125]"
      ]
     },
     "execution_count": 30,
     "metadata": {},
     "output_type": "execute_result"
    }
   ],
   "source": [
    "model.evaluate(x_test,y_test)"
   ]
  },
  {
   "cell_type": "code",
   "execution_count": 31,
   "id": "63d4798a",
   "metadata": {},
   "outputs": [
    {
     "data": {
      "text/plain": [
       "TensorShape([100, 8])"
      ]
     },
     "execution_count": 31,
     "metadata": {},
     "output_type": "execute_result"
    }
   ],
   "source": [
    "x_test.shape"
   ]
  },
  {
   "cell_type": "code",
   "execution_count": 32,
   "id": "e51c138e",
   "metadata": {},
   "outputs": [
    {
     "name": "stdout",
     "output_type": "stream",
     "text": [
      "\u001b[1m1/1\u001b[0m \u001b[32m━━━━━━━━━━━━━━━━━━━━\u001b[0m\u001b[37m\u001b[0m \u001b[1m0s\u001b[0m 67ms/step\n"
     ]
    },
    {
     "data": {
      "text/plain": [
       "array([[184356.17]], dtype=float32)"
      ]
     },
     "execution_count": 32,
     "metadata": {},
     "output_type": "execute_result"
    }
   ],
   "source": [
    "model.predict(tf.expand_dims(x_test[0], axis = 0))"
   ]
  },
  {
   "cell_type": "code",
   "execution_count": 33,
   "id": "9b4bc411",
   "metadata": {},
   "outputs": [
    {
     "data": {
      "text/plain": [
       "<tf.Tensor: shape=(1,), dtype=float32, numpy=array([129863.], dtype=float32)>"
      ]
     },
     "execution_count": 33,
     "metadata": {},
     "output_type": "execute_result"
    }
   ],
   "source": [
    "y_test[0]"
   ]
  },
  {
   "cell_type": "code",
   "execution_count": 34,
   "id": "6b2c465b",
   "metadata": {},
   "outputs": [],
   "source": [
    "y_true = list(y_test[:,0].numpy())"
   ]
  },
  {
   "cell_type": "code",
   "execution_count": 35,
   "id": "c7ca92e3",
   "metadata": {},
   "outputs": [
    {
     "name": "stdout",
     "output_type": "stream",
     "text": [
      "\u001b[1m4/4\u001b[0m \u001b[32m━━━━━━━━━━━━━━━━━━━━\u001b[0m\u001b[37m\u001b[0m \u001b[1m0s\u001b[0m 5ms/step \n",
      "[184356.17, 117333.09, 531286.56, 421817.25, 335087.2, 179710.58, 347990.22, 459788.1, 372994.66, 91922.05, 580496.25, 213895.45, 212808.64, 277164.66, 154299.23, 292754.53, 489258.38, 446046.38, 444351.62, 437118.47, 241185.47, 208759.94, 307203.34, 356703.8, 148437.42, 390475.9, 317493.44, 478113.84, 429119.5, 460621.34, 276689.84, 336574.34, 475970.66, 445582.34, 282718.78, 229576.62, 243642.66, 339110.66, 73835.74, 258157.97, 181892.62, 479265.2, 465151.8, 438924.2, 549372.3, 309571.28, 103057.04, 380244.5, 355440.53, 343219.75, 183684.8, 247658.9, 516699.9, 345129.28, 354612.72, 114143.52, 355280.28, 491130.06, 445224.28, 171969.69, 373162.97, 494812.1, 348144.3, 466311.78, 265885.34, 397574.53, 289445.03, 213110.34, 475286.9, 130037.625, 553197.8, 398980.97, 220479.33, 322931.12, 443880.03, 119927.08, 256291.28, 318815.9, 123916.06, 432196.72, 304722.0, 312437.12, 429871.0, 158400.8, 405119.97, 521276.22, 558728.94, 222754.2, 163655.72, 468209.4, 328790.62, 391766.56, 420434.4, 252773.86, 401783.06, 380894.34, 269806.94, 229316.98, 173067.06, 408608.7]\n"
     ]
    }
   ],
   "source": [
    "y_pred = list(model.predict(x_test)[:,0])\n",
    "print(y_pred)"
   ]
  },
  {
   "cell_type": "code",
   "execution_count": 36,
   "id": "5a8d5aa6",
   "metadata": {},
   "outputs": [
    {
     "data": {
      "image/png": "[encoded data removed]",
      "text/plain": [
       "<Figure size 4000x2000 with 1 Axes>"
      ]
     },
     "metadata": {},
     "output_type": "display_data"
    }
   ],
   "source": [
    "ind = np.arange(100)\n",
    "plt.figure(figsize=(40,20))\n",
    "\n",
    "width = 0.1\n",
    "\n",
    "plt.bar(ind, y_pred, width, label='Predicted Car Price')\n",
    "plt.bar(ind + width, y_true, width, label='Actual Car Price')\n",
    "\n",
    "plt.xlabel('Actual vs Predicted Prices')\n",
    "plt.ylabel('Car Price Prices')\n",
    "\n",
    "plt.show()\n",
    "     "
   ]
  },
  {
   "cell_type": "code",
   "execution_count": null,
   "id": "1e76bbc6",
   "metadata": {},
   "outputs": [],
   "source": []
  }
 ],
 "metadata": {
  "kernelspec": {
   "display_name": "Python 3 (ipykernel)",
   "language": "python",
   "name": "python3"
  },
  "language_info": {
   "codemirror_mode": {
    "name": "ipython",
    "version": 3
   },
   "file_extension": ".py",
   "mimetype": "text/x-python",
   "name": "python",
   "nbconvert_exporter": "python",
   "pygments_lexer": "ipython3",
   "version": "3.11.5"
  }
 },
 "nbformat": 4,
 "nbformat_minor": 5
}
